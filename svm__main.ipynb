{
  "nbformat": 4,
  "nbformat_minor": 0,
  "metadata": {
    "kernelspec": {
      "display_name": "Python 3",
      "language": "python",
      "name": "python3"
    },
    "language_info": {
      "codemirror_mode": {
        "name": "ipython",
        "version": 3
      },
      "file_extension": ".py",
      "mimetype": "text/x-python",
      "name": "python",
      "nbconvert_exporter": "python",
      "pygments_lexer": "ipython3",
      "version": "3.7.3"
    },
    "colab": {
      "name": "svm_.mainipynb",
      "provenance": [],
      "collapsed_sections": []
    }
  },
  "cells": [
    {
      "cell_type": "code",
      "metadata": {
        "id": "kvlcJz9mS2Ux"
      },
      "source": [
        "# importing the libraries\n",
        "import os\n",
        "import gzip\n",
        "import numpy as np\n",
        "from sklearn import svm\n",
        "from sklearn.model_selection import train_test_split\n",
        "from scipy.optimize import minimize\n",
        "from cvxopt import matrix, solvers\n",
        "from time import time"
      ],
      "execution_count": null,
      "outputs": []
    },
    {
      "cell_type": "code",
      "metadata": {
        "id": "Eg9ddcLAS2Uy"
      },
      "source": [
        "# importing the data\n",
        "def load_mnist(path, kind='train'):\n",
        "\n",
        "    \"\"\"Load MNIST data from `path`\"\"\"\n",
        "    labels_path = os.path.join(path,\n",
        "                               '%s-labels-idx1-ubyte.gz'\n",
        "                               % kind)\n",
        "    images_path = os.path.join(path,\n",
        "                               '%s-images-idx3-ubyte.gz'\n",
        "                               % kind)\n",
        "\n",
        "    with gzip.open(labels_path, 'rb') as lbpath:\n",
        "        labels = np.frombuffer(lbpath.read(), dtype=np.uint8,\n",
        "                               offset=8)\n",
        "\n",
        "    with gzip.open(images_path, 'rb') as imgpath:\n",
        "        images = np.frombuffer(imgpath.read(), dtype=np.uint8,\n",
        "                               offset=16).reshape(len(labels), 784)\n",
        "\n",
        "    return images, labels\n",
        "\n",
        "\n",
        "cwd = os.getcwd()\n",
        "\n",
        "X_all_labels, y_all_labels = load_mnist(cwd, kind='train')\n",
        "\n",
        "\"\"\"\n",
        "We are only interested in the items with label 2, 4 and 6.\n",
        "Only a subset of 1000 samples per class will be used.\n",
        "\"\"\"\n",
        "indexLabel3 = np.where((y_all_labels==3))\n",
        "xLabel3 =  X_all_labels[indexLabel3][:1000,:].astype('float64')\n",
        "yLabel3 = y_all_labels[indexLabel3][:1000].astype('float64')\n",
        "\n",
        "indexLabel8 = np.where((y_all_labels==8))\n",
        "xLabel8 =  X_all_labels[indexLabel8][:1000,:].astype('float64')\n",
        "yLabel8 = y_all_labels[indexLabel8][:1000].astype('float64')"
      ],
      "execution_count": null,
      "outputs": []
    },
    {
      "cell_type": "code",
      "metadata": {
        "id": "MxSz1CxRS2Uz"
      },
      "source": [
        "# preparing the data\n",
        "x_con = np.concatenate((xLabel3, xLabel8), axis = 0)\n",
        "y_con = np.concatenate((yLabel3, yLabel8))\n",
        "\n",
        "#normalization of values in x dataset \n",
        "x_con = x_con /255\n",
        "\n",
        "#changing the labels \n",
        "y_con[y_con <= 3] = -1; y_con[y_con >= 8] = 1"
      ],
      "execution_count": null,
      "outputs": []
    },
    {
      "cell_type": "code",
      "metadata": {
        "id": "JoO7YSTwycKz"
      },
      "source": [
        "x_tr, x_test, y_tr, y_test = train_test_split(x_con, y_con, train_size = 0.8, test_size = 0.2, random_state = 1705471)"
      ],
      "execution_count": null,
      "outputs": []
    },
    {
      "cell_type": "markdown",
      "metadata": {
        "id": "X7O-gwJFS2Uu"
      },
      "source": [
        "# SVM dual quadratic problem"
      ]
    },
    {
      "cell_type": "markdown",
      "metadata": {
        "id": "yTW4ylQmrFTQ"
      },
      "source": [
        "**Some functions to handle some operations later**"
      ]
    },
    {
      "cell_type": "code",
      "metadata": {
        "id": "zstjPtlLrE2X"
      },
      "source": [
        "def R(alpha,c):\n",
        "  Lp = np.where((alpha <= 1e-06)&(y==1))[0]                 #first condition\n",
        "  Um = np.where((alpha >= C -(1e-06))&(y==-1))[0]           #second condition\n",
        "  inside = np.where((alpha > 1e-06)&(alpha < C-(1e-06)))[0] #third condition\n",
        "  r = np.concatenate((Lp,Um,inside)).astype(int)\n",
        "  r = np.sort(r)\n",
        "  return r\n",
        "\n",
        "def S(alpha,c):\n",
        "  Lp = np.where((alpha <= 1e-06)&(y==-1))[0]                #first condition\n",
        "  Um = np.where((alpha >= C -(1e-06))&(y==1))[0]            #second condition\n",
        "  inside = np.where((alpha > 1e-06)&(alpha < C-(1e-06)))[0] #third condition \n",
        "  s = np.concatenate((Lp,Um,inside)).astype(int)\n",
        "  s = np.sort(r)\n",
        "  return s"
      ],
      "execution_count": null,
      "outputs": []
    },
    {
      "cell_type": "markdown",
      "metadata": {
        "id": "TwXfjvosrKg0"
      },
      "source": [
        "**SVM class**"
      ]
    },
    {
      "cell_type": "code",
      "metadata": {
        "id": "MsHmXJUBS2U0"
      },
      "source": [
        "class customSVM(object):\n",
        "    \n",
        "    # init funtion\n",
        "    def __init__(self, x, y, C, gamma):\n",
        "        self.x = x; self.y = y\n",
        "        self.C = C; self.gamma = gamma\n",
        "        self.alpha = np.zeros(y.shape[0])\n",
        "    \n",
        "    # funtion to get all the parameters\n",
        "    def get_par(self):\n",
        "        return self.x, self.y, self.C, self.gamma, self.alpha\n",
        "    \n",
        "    # set function\n",
        "    def set_par(self, x, y, C, gamma, alpha):\n",
        "        self.x = x; self.y = y\n",
        "        self.C = C; self.gamma = gamma\n",
        "        self.alpha = alpha\n",
        "        \n",
        "    # linear kernel\n",
        "    def lin_ker(self):\n",
        "        return(np.power(self.x.dot(self.x.T) + 1, self.gamma))\n",
        "    \n",
        "    # calculating the alpha by minimizing the lagrangian for the soft SVM\n",
        "\n",
        "    def opt_alpha(self):\n",
        "\n",
        "      x, y, C, gamma, alpha = self.get_par()\n",
        "      n_samples, n_features = x.shape\n",
        "      start_time = time()\n",
        "      \n",
        "      # Compute the Gram matrix\n",
        "\n",
        "      K = np.zeros((n_samples, n_samples))\n",
        "\n",
        "      '''\n",
        "      for i in range(n_samples):\n",
        "        for j in range(n_samples):\n",
        "          K[i,j] = self.lin_ker(x[i], x[j])\n",
        "      '''\n",
        "\n",
        "      # costruction of the function to minimize\n",
        "\n",
        "      P = matrix(np.outer(y,y) * self.lin_ker())\n",
        "      q = matrix(np.ones(n_samples) * -1)\n",
        "\n",
        "      A = matrix(y, (1,n_samples))\n",
        "      b = matrix(0.0)\n",
        "\n",
        "      G = matrix(np.vstack((np.diag(np.ones(n_samples) * -1), np.identity(n_samples))))\n",
        "      h = matrix(np.hstack((np.zeros(n_samples), np.ones(n_samples) * C)))\n",
        "\n",
        "      # solve QP problem\n",
        "      solvers.options['show_progress'] = False\n",
        "      solution = solvers.qp(P, q, G, h, A, b)\n",
        "\n",
        "      # updating with the final value of alpha\n",
        "      self.set_par(x, y, C, gamma, np.array(solution['x']))\n",
        "      #print(self.lin_ker()[0, 0])\n",
        "      return solution['primal objective'], solution['iterations'], time() - start_time"
      ],
      "execution_count": null,
      "outputs": []
    },
    {
      "cell_type": "markdown",
      "metadata": {
        "id": "Kh34EH1ArTon"
      },
      "source": [
        "**K-Fold CV to proper set C and gamma hyper parametres**"
      ]
    },
    {
      "cell_type": "code",
      "metadata": {
        "colab": {
          "base_uri": "https://localhost:8080/"
        },
        "id": "LRAz8cD5Cgd9",
        "outputId": "3ea36b2a-7e4a-4874-8e39-d17ebbdad5a6"
      },
      "source": [
        "hyperPar = {\n",
        "    'C': [0.01,0.015,0.02,0.1,0.15,0.2,0.5,1,2,5],\n",
        "    'gamma': [1,1.75,2]\n",
        "}\n",
        "\n",
        "hyperPar1 = {\n",
        "    'C': [0.1],\n",
        "    'gamma': [1]\n",
        "}\n",
        "\n",
        "opt_C = 0; opt_gamma = 0; opt_alpha = 0; opt_b = 0\n",
        "opt_acc = 0; opt_in_fun_val = 0; tr_acc = 0\n",
        "tot_it = 0; tot_time = 0\n",
        "k = len(hyperPar['C']) * len(hyperPar['gamma'])\n",
        "\n",
        "\n",
        "alpha_res = []\n",
        "\n",
        "for c in hyperPar1['C']:\n",
        "    for Gamma in hyperPar1['gamma']:\n",
        "        # creation of the SVM object\n",
        "        accl=[]\n",
        "        n_split = 5\n",
        "        size = int(len(x_con) / n_split)        \n",
        "        for iteration in range(n_split):\n",
        "            if iteration==0:\n",
        "                x_test = x_con[:size]\n",
        "                y_test = y_con[:size]\n",
        "                x_tr = x_con[size:]\n",
        "                y_tr = y_con[size:]\n",
        "            else:\n",
        "                #qua è necessario farlo sulla stessa riga sennò x_test sfattona\n",
        "                x_test, x_tr = x_tr[:size], np.concatenate((x_tr[size:],x_test)) \n",
        "                y_test, y_tr = y_tr[:size],  np.concatenate((y_tr[size:],y_test)) \n",
        "            # changing labels\n",
        "            \n",
        "            \n",
        "            tr_SVM = customSVM(x_tr, y_tr, c, Gamma)\n",
        "            #a ogni iterazione test si aggiorna del size del bucket, mentre x_train si riduce del bucket andato in test e riceve x_test precedente\n",
        "        \n",
        "        # computation of the optimal point and extraction of the result\n",
        "\n",
        "            fun_val, n_it, ex_time = tr_SVM.opt_alpha()\n",
        "            x, y, C, gamma, alpha = tr_SVM.get_par()\n",
        "            tot_it += n_it; tot_time += ex_time\n",
        "            \n",
        "            # weights and biases\n",
        "\n",
        "            w = np.multiply(alpha.reshape(y.shape[0]), y).dot(x)   #calcolo w con alpha ottimale \n",
        "            b = np.average(y - w.dot(x.T))                         #calcolo b con w e alpha ottimali\n",
        "            \n",
        "            # calculation of the accuracy to choose the best params\n",
        "\n",
        "            pred = np.sign(w.dot(x_test.T) + b)              # we use sign function to predict on k-foldt test\n",
        "            acc = np.sum(pred == y_test) / y_test.shape[0]   # computing accuracy related to k- fold test\n",
        "            pred_tr = np.sign(w.dot(x_tr.T) + b)            \n",
        "            acc_tr = np.sum(pred_tr == y_tr) / y_tr.shape[0]\n",
        "            #alpha_res.append(alpha)\n",
        "\n",
        "            accl.append(acc)\n",
        "\n",
        "        if np.mean(accl) > opt_acc:\n",
        "          opt_C = c; opt_gamma = Gamma; opt_acc = np.mean(accl); tr_acc = acc_tr\n",
        "          print(np.mean(accl))\n",
        "          print('optimal values:', 'gamma:',opt_gamma,'C:',opt_C)\n",
        "          #opt_in_fun_val = tr_SVM.f(alpha, np.outer(y,y) * tr_SVM.lin_ker(), np.ones((x.shape[0], 1)) * -1)\n",
        "          opt_alpha = alpha; opt_b = b"
      ],
      "execution_count": null,
      "outputs": [
        {
          "output_type": "stream",
          "text": [
            "0.9765\n",
            "optimal values: gamma: 1 C: 0.1\n"
          ],
          "name": "stdout"
        }
      ]
    },
    {
      "cell_type": "markdown",
      "metadata": {
        "id": "2v1yfUqNVEbu"
      },
      "source": [
        "**Here we train the model with optimal values of C,gamma again. Then check all kkt violations, and finally check if the value of optimal alpha we evaluated  is a kkt point**"
      ]
    },
    {
      "cell_type": "code",
      "metadata": {
        "id": "924MDKnjS2U4"
      },
      "source": [
        "kkt_viol = 0; opt_alpha = opt_alpha.reshape((1600))\n",
        "\n",
        "kkt_SVM = customSVM(x_tr, y_tr, opt_C, opt_gamma) # on optimal values of C and alpha\n",
        "\n",
        "rho = np.multiply(opt_alpha.reshape(y_tr.shape[0]), y_tr).dot(kkt_SVM.lin_ker())\n",
        "print(rho)\n",
        "\n",
        "rho += y_tr - np.average(rho)\n",
        "\n",
        "rho_y = np.multiply(y_tr, rho)\n",
        "\n",
        "# calculating kkt violations\n",
        "\n",
        "g = 5*10**(-2) #gap for points really close to 0 or C value\n",
        "\n",
        "for i in range(rho_y.shape[0]):\n",
        "    if rho_y[i] == 1 and (opt_alpha[i] >= opt_C-g or opt_alpha[i] <= 0+g):\n",
        "        kkt_viol += 1\n",
        "        \n",
        "    if rho_y[i] < 1 and opt_alpha[i] != opt_C:\n",
        "        kkt_viol += 1\n",
        "        \n",
        "    if rho_y[i] > 1 and opt_alpha[i] != 0:\n",
        "        kkt_viol += 1\n",
        "\n",
        "# calculation of the kkt optimality\n",
        "# we set a gap a less grater than zero, otherwise we'll select\n",
        "# all indeces both for S and R\n",
        "\n",
        "#calculating R set\n",
        "\n",
        "Lp = np.where((opt_alpha <= g)&(y==1))[0]                      #first condition\n",
        "Um = np.where((opt_alpha >= C -(g))&(y==-1))[0]                #second condition\n",
        "#inside = np.where((opt_alpha > g)&(opt_alpha < C-(g)))[0]     #third condition\n",
        "r = np.concatenate((Lp,Um)).astype(int)\n",
        "r = np.sort(r)\n",
        "\n",
        "# calculating S set\n",
        "\n",
        "Lp = np.where((opt_alpha <= g)&(y==-1))[0]                     #first condition\n",
        "Um = np.where((opt_alpha >= C -(g))&(y==1))[0]                 #second condition\n",
        "#inside = np.where((opt_alpha > g)&(opt_alpha < C-(g)))[0]     #third condition \n",
        "s = np.concatenate((Lp,Um)).astype(int)\n",
        "s = np.sort(s)\n",
        "\n",
        "delta_f = (np.outer(y_tr, y_tr) * kkt_SVM.lin_ker()).dot(opt_alpha) - np.ones(opt_alpha.shape[0])\n",
        "\n",
        "print(r == s) #check if R and S set are different \n",
        "\n",
        "m = np.max(-np.multiply(delta_f[r[0]], y_tr[r[0]]))\n",
        "M = np.min(-np.multiply(delta_f[s[0]], y_tr[s[0]]))"
      ],
      "execution_count": null,
      "outputs": []
    },
    {
      "cell_type": "markdown",
      "metadata": {
        "id": "71aVLo4UVs7i"
      },
      "source": [
        "**In this part we print all relevant information**"
      ]
    },
    {
      "cell_type": "code",
      "metadata": {
        "id": "Y1yHvpKuS2U5",
        "colab": {
          "base_uri": "https://localhost:8080/"
        },
        "outputId": "0e4ef556-d6aa-49de-bf47-db54b204de95"
      },
      "source": [
        "# printing the results\n",
        "print(\"Optimal C: \", opt_C)\n",
        "print(\"Optimal gamma: \", opt_gamma)\n",
        "print(\"Optimization solver: cvxopt qp solver\")\n",
        "print(\"Mean iteration number: \", tot_it / k)\n",
        "print(\"Tot iteration number: \", tot_it )\n",
        "print(\"Mean function ev.: \", tot_it / k)\n",
        "print(\"Mean time optimization: \", tot_time / k, \"s\")\n",
        "print(\"Train accuracy: \", tr_acc)\n",
        "print(\"Test accuracy: \", opt_acc)\n",
        "print(\"value of m(a) - M(a) for optimal alpha: \", m - M)"
      ],
      "execution_count": null,
      "outputs": [
        {
          "output_type": "stream",
          "text": [
            "Optimal C:  0.1\n",
            "Optimal gamma:  1\n",
            "Optimization solver: cvxopt qp solver\n",
            "Mean iteration number:  1.8333333333333333\n",
            "Tot iteration number:  55\n",
            "Mean function ev.:  1.8333333333333333\n",
            "Mean time optimization:  0.9648756106694539 s\n",
            "Train accuracy:  0.98625\n",
            "Test accuracy:  0.9765\n",
            "value of m(a) - M(a) for optimal alpha:  -1.555067403399435\n"
          ],
          "name": "stdout"
        }
      ]
    },
    {
      "cell_type": "markdown",
      "metadata": {
        "id": "SwW5iOXOsI_m"
      },
      "source": [
        "# Decomposition method for the dual quadratic problem with q ≥ 4."
      ]
    },
    {
      "cell_type": "markdown",
      "metadata": {
        "id": "gh3tuhFitClI"
      },
      "source": [
        "#### Here we use **q=10** basing our choise looking to arguments treated during lessons"
      ]
    },
    {
      "cell_type": "code",
      "metadata": {
        "id": "A6VG7doDsG1R"
      },
      "source": [
        "tr_SVM = customSVM(x_tr, y_tr, opt_C, opt_gamma)\n",
        "k = 0; num_features = x_tr.shape[1]; q = 10\n",
        "alpha = np.zeros(y_tr.shape[0])\n",
        "alpha_app = np.zeros(y_tr.shape[0])\n",
        "alpha_grad = -1 * np.ones(y_tr.shape[0])\n",
        "tot_it = 0; tot_fev = 0; tot_time = 0\n",
        "Q = np.outer(y_tr, y_tr) * tr_SVM.lin_ker()\n",
        "val_tol = 0.05"
      ],
      "execution_count": null,
      "outputs": []
    },
    {
      "cell_type": "code",
      "metadata": {
        "id": "wk5YGhupM0sQ"
      },
      "source": [
        "class customSVMlight(object):\n",
        "    \n",
        "    # init funtion\n",
        "    def __init__(self, x, y, C, gamma, indexes, alpha):\n",
        "        self.x = x; self.y = y\n",
        "        self.C = C; self.gamma = gamma\n",
        "        self.I = indexes\n",
        "        self.alpha = alpha\n",
        "    \n",
        "    # funtion to get all the parameters\n",
        "    def get_par(self):\n",
        "        return self.x, self.y, self.C, self.gamma, self.alpha\n",
        "    \n",
        "    # set function\n",
        "    def set_par(self, x, y, C, gamma, alpha):\n",
        "        self.x = x; self.y = y\n",
        "        self.C = C; self.gamma = gamma\n",
        "        self.alpha = alpha\n",
        "        \n",
        "    # linear kernel\n",
        "    def lin_ker(self, x):\n",
        "        return(np.power(x.dot(x.T) + 1, self.gamma))\n",
        "    \n",
        "    # calculating the alpha by minimizing the lagrangian for the soft SVM\n",
        "    def opt_alpha(self):\n",
        "        x, y, C, gamma, alpha = self.get_par()\n",
        "        I = self.I; m = len(I)\n",
        "        not_I = np.setdiff1d(np.indices(alpha.shape), I)\n",
        "        y_I = y[I]; Q = np.outer(y, y) * self.lin_ker(x)\n",
        "        val_b = -np.sum(alpha[not_I] * y[not_I])\n",
        "        start_time = time()\n",
        "        \n",
        "        # costruction of the function to minimize\n",
        "        P = matrix(Q[I, :][:, I])\n",
        "        q = matrix(np.full(m, -1) + (Q[I, :][:, not_I]).dot(alpha[not_I]))\n",
        "        \n",
        "        # contruction of the matrix for the disequation part          \n",
        "        G = matrix(np.vstack((np.eye(m) * -1, np.eye(m))))        \n",
        "        h = matrix(np.hstack((np.zeros(m), np.full(m, C))))\n",
        "        \n",
        "        # contruction of the matrix for the equation part\n",
        "        A = matrix(y_I.reshape(1, -1))\n",
        "        b = matrix(np.array([val_b]))\n",
        "        \n",
        "        # updating with the final value of alpha\n",
        "        solvers.options['show_progress'] = False\n",
        "        solution = solvers.qp(P, q, G, h, A, b)\n",
        "        self.set_par(x, y, C, gamma, np.array(solution['x']).reshape(m))\n",
        "        return solution['primal objective'], solution['iterations'], time() - start_time"
      ],
      "execution_count": null,
      "outputs": []
    },
    {
      "cell_type": "code",
      "metadata": {
        "colab": {
          "base_uri": "https://localhost:8080/"
        },
        "id": "xvmk0KSasS9Y",
        "outputId": "4c7192ba-03db-430f-85f4-48d4869c5840"
      },
      "source": [
        "m =1\n",
        "M = -1\n",
        "\n",
        "while m - M > val_tol:\n",
        "    # selcting the two working set\n",
        "    R_a = np.where(((alpha < opt_C - val_tol) & (y_tr == 1) | (alpha > val_tol) & (y_tr == -1)))[0]\n",
        "    S_a = np.where(((alpha < opt_C - val_tol) & (y_tr == -1) | (alpha > val_tol) & (y_tr == 1)))[0]\n",
        "    \n",
        "    I_a = np.argsort(- alpha_grad[R_a] * y_tr[R_a])[::-1]\n",
        "    J_a = np.argsort(- alpha_grad[S_a] * y_tr[S_a])\n",
        "    W = np.concatenate((I_a[: int(q/2)], J_a[: int(q/2)]))\n",
        "    \n",
        "    m = - alpha_grad[R_a[I_a[0]]] * y_tr[R_a[I_a[0]]]\n",
        "    M = - alpha_grad[S_a[J_a[0]]] * y_tr[S_a[J_a[0]]]\n",
        "    \n",
        "    # solving the problem for the chosen W\n",
        "    W_SVM = customSVMlight(x_tr, y_tr, opt_C, opt_gamma, np.concatenate((R_a[I_a[: int(q/2)]], S_a[J_a[: int(q/2)]])), alpha)\n",
        "    fun_val, n_it, ex_time = W_SVM.opt_alpha()\n",
        "    tot_it += n_it; tot_time += ex_time\n",
        "    \n",
        "    # updating alpha\n",
        "    x, y, C, gamma, alpha_W = W_SVM.get_par()\n",
        "    \n",
        "    for i in range(int(q/2)):\n",
        "        alpha[R_a[W[i]]] = alpha_W[i]\n",
        "        alpha[S_a[W[i + int(q/2)]]] = alpha_W[i + int(q/2)]\n",
        "        \n",
        "    # computing the new gradient incrementing k and calculating the new m(a) and M(a)\n",
        "    alpha_grad += (alpha - alpha_app).dot(Q)\n",
        "        \n",
        "    for i in range(int(q/2)):\n",
        "        alpha_app[R_a[W[i]]] = alpha_W[i]\n",
        "        alpha_app[S_a[W[i + int(q/2)]]] = alpha_W[i + int(q/2)]\n",
        "    \n",
        "    k += 1;\n",
        "print('Iterations:',k)"
      ],
      "execution_count": null,
      "outputs": [
        {
          "output_type": "stream",
          "text": [
            "Iterations: 309\n"
          ],
          "name": "stdout"
        }
      ]
    },
    {
      "cell_type": "code",
      "metadata": {
        "id": "STzisBabsbrY"
      },
      "source": [
        "# weights and biases\n",
        "w = np.multiply(alpha.reshape(y.shape[0]), y).dot(x)\n",
        "b = np.average(y - w.dot(x.T))\n",
        "\n",
        "# calculation of the accuracy to choose the best params\n",
        "pred = np.sign(w.dot(x_test.T) + b)\n",
        "acc = np.sum(pred == y_test) / y_test.shape[0]\n",
        "pred_tr = np.sign(w.dot(x_tr.T) + b)\n",
        "acc_tr = np.sum(pred_tr == y_tr) / y_tr.shape[0]"
      ],
      "execution_count": null,
      "outputs": []
    },
    {
      "cell_type": "code",
      "metadata": {
        "colab": {
          "base_uri": "https://localhost:8080/"
        },
        "id": "AkooSsv4seuF",
        "outputId": "04576a0b-dce1-4799-c40d-60bd5ce49d0e"
      },
      "source": [
        "print(\"Train accuracy: \", acc_tr)\n",
        "print(\"Test accuracy: \", acc)\n",
        "print(\"value of m(a) - M(a): \", m - M)"
      ],
      "execution_count": null,
      "outputs": [
        {
          "output_type": "stream",
          "text": [
            "Train accuracy:  0.98125\n",
            "Test accuracy:  0.9825\n",
            "value of m(a) - M(a):  0.044616870563102706\n"
          ],
          "name": "stdout"
        }
      ]
    },
    {
      "cell_type": "markdown",
      "metadata": {
        "id": "MBtZZxLPS2U8"
      },
      "source": [
        "# With q = 2 we implemented the most violating pair (MVP) decomposition method"
      ]
    },
    {
      "cell_type": "code",
      "metadata": {
        "id": "L25F7QnzS2U9"
      },
      "source": [
        "tr_SVM = customSVM(x_tr, y_tr, opt_C, opt_gamma)\n",
        "k = 0; num_features = x_tr.shape[1]; q = 2\n",
        "alpha = np.zeros(y_tr.shape[0])\n",
        "alpha_app = np.zeros(y_tr.shape[0])\n",
        "alpha_grad = -1 * np.ones(y_tr.shape[0])\n",
        "tot_it = 0; tot_fev = 0; tot_time = 0\n",
        "Q = np.outer(y_tr, y_tr) * tr_SVM.lin_ker()\n",
        "val_tol = 0.05"
      ],
      "execution_count": null,
      "outputs": []
    },
    {
      "cell_type": "code",
      "metadata": {
        "id": "htxzG6loS2U-",
        "colab": {
          "base_uri": "https://localhost:8080/"
        },
        "outputId": "269697e7-ca0f-48f9-c020-901b7b351900"
      },
      "source": [
        "m =1\n",
        "M = -1\n",
        "\n",
        "while m - M > val_tol:\n",
        "    # selcting the two working set\n",
        "    R_a = np.where(((alpha < opt_C - val_tol) & (y_tr == 1) | (alpha > val_tol) & (y_tr == -1)))[0]\n",
        "    S_a = np.where(((alpha < opt_C - val_tol) & (y_tr == -1) | (alpha > val_tol) & (y_tr == 1)))[0]\n",
        "    \n",
        "    I_a = np.argsort(- alpha_grad[R_a] * y_tr[R_a])[::-1]\n",
        "    J_a = np.argsort(- alpha_grad[S_a] * y_tr[S_a])\n",
        "    W = np.concatenate((I_a[: int(q/2)], J_a[: int(q/2)]))\n",
        "    \n",
        "    m = - alpha_grad[R_a[I_a[0]]] * y_tr[R_a[I_a[0]]]\n",
        "    M = - alpha_grad[S_a[J_a[0]]] * y_tr[S_a[J_a[0]]]\n",
        "    \n",
        "    # solving the problem for the chosen W\n",
        "    W_SVM = customSVMlight(x_tr, y_tr, opt_C, opt_gamma, np.concatenate((R_a[I_a[: int(q/2)]], S_a[J_a[: int(q/2)]])), alpha)\n",
        "    fun_val, n_it, ex_time = W_SVM.opt_alpha()\n",
        "    tot_it += n_it; tot_time += ex_time\n",
        "    \n",
        "    # updating alpha\n",
        "    x, y, C, gamma, alpha_W = W_SVM.get_par()\n",
        "    \n",
        "    for i in range(int(q/2)):\n",
        "        alpha[R_a[W[i]]] = alpha_W[i]\n",
        "        alpha[S_a[W[i + int(q/2)]]] = alpha_W[i + int(q/2)]\n",
        "        \n",
        "    # computing the new gradient incrementing k and calculating the new m(a) and M(a)\n",
        "    alpha_grad += (alpha - alpha_app).dot(Q)\n",
        "        \n",
        "    for i in range(int(q/2)):\n",
        "        alpha_app[R_a[W[i]]] = alpha_W[i]\n",
        "        alpha_app[S_a[W[i + int(q/2)]]] = alpha_W[i + int(q/2)]\n",
        "    \n",
        "    k += 1;\n",
        "print('Iterations:',k)"
      ],
      "execution_count": null,
      "outputs": [
        {
          "output_type": "stream",
          "text": [
            "Iterations: 307\n"
          ],
          "name": "stdout"
        }
      ]
    },
    {
      "cell_type": "code",
      "metadata": {
        "id": "wXsswe8US2U_"
      },
      "source": [
        "# weights and biases\n",
        "w = np.multiply(alpha.reshape(y.shape[0]), y).dot(x)\n",
        "b = np.average(y - w.dot(x.T))\n",
        "\n",
        "# calculation of the accuracy to choose the best params\n",
        "pred = np.sign(w.dot(x_test.T) + b)\n",
        "acc = np.sum(pred == y_test) / y_test.shape[0]\n",
        "pred_tr = np.sign(w.dot(x_tr.T) + b)\n",
        "acc_tr = np.sum(pred_tr == y_tr) / y_tr.shape[0]"
      ],
      "execution_count": null,
      "outputs": []
    },
    {
      "cell_type": "code",
      "metadata": {
        "id": "ckEdGUB-S2VA",
        "colab": {
          "base_uri": "https://localhost:8080/"
        },
        "outputId": "b33ce4f0-5746-443d-e11f-9bfadc9974e8"
      },
      "source": [
        "print(\"Train accuracy: \", acc_tr)\n",
        "print(\"Test accuracy: \", acc)\n",
        "print(\"value of m(a) - M(a): \", m - M)"
      ],
      "execution_count": null,
      "outputs": [
        {
          "output_type": "stream",
          "text": [
            "Train accuracy:  0.98125\n",
            "Test accuracy:  0.9825\n",
            "value of m(a) - M(a):  0.04786468064398686\n"
          ],
          "name": "stdout"
        }
      ]
    }
  ]
}